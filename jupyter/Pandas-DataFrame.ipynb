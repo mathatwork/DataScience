{
 "cells": [
  {
   "cell_type": "markdown",
   "metadata": {},
   "source": [
    "# Pandas DataFrame Exploration: FoodHub Online Food Orders"
   ]
  },
  {
   "cell_type": "markdown",
   "metadata": {},
   "source": [
    "FoodHub is a restaurant that started last January offering free delivery for all its online orders.  You are a restaurant manager interested in knowing whether the average online food orders per month is increasing over time.  Over one year, each time an online order is placed, you record the MONTH the order was placed, the MONTH NUMBER representation and the TOTAL ORDER PRICE in a CSV file.  Your data is located in the data directory."
   ]
  },
  {
   "cell_type": "markdown",
   "metadata": {},
   "source": [
    "**Question 1)** Import your data into a Pandas DataFrame called *orders* from the PATH: *data/orders.csv*.  Then PRINT the FIRST 10 rows of your *orders* DataFrame to the screen."
   ]
  },
  {
   "cell_type": "code",
   "execution_count": null,
   "metadata": {
    "collapsed": true
   },
   "outputs": [],
   "source": []
  },
  {
   "cell_type": "markdown",
   "metadata": {},
   "source": [
    "**Question 2)** After examining the FIRST 10 rows of your dataset, you notice there are no column LABELS.  Create them now using the following labels:  Month, Month_Number, Total_Price.  Re-examine the FIRST 10 rows by printing them to the screen."
   ]
  },
  {
   "cell_type": "code",
   "execution_count": null,
   "metadata": {
    "collapsed": true
   },
   "outputs": [],
   "source": []
  },
  {
   "cell_type": "markdown",
   "metadata": {},
   "source": [
    "**Question 3)** To ensure that you recorded your data correctly (i.e., there are no typos in month names and there are no months not accounted for), aggregate the Month column by UNIQUE month names.  Do the month names look good?  Are there any months with no data recorded?"
   ]
  },
  {
   "cell_type": "code",
   "execution_count": null,
   "metadata": {
    "collapsed": true
   },
   "outputs": [],
   "source": []
  },
  {
   "cell_type": "markdown",
   "metadata": {},
   "source": [
    "**Question 4)** If the data looks good, GROUP the data by AVERAGE Total_Price for each Month_Number.  Save this as a new Pandas Object, *orders_grouped*.\n"
   ]
  },
  {
   "cell_type": "code",
   "execution_count": null,
   "metadata": {
    "collapsed": true
   },
   "outputs": [],
   "source": []
  },
  {
   "cell_type": "markdown",
   "metadata": {},
   "source": [
    "**IMPORTANT!**  Your new Pandas Object is not a DataFrame.  Since it was created as the output of a grouping in the previous step, **orders_grouped** is a Pandas Series. "
   ]
  },
  {
   "cell_type": "markdown",
   "metadata": {},
   "source": [
    "**Question 5)** The average online food orders do not appear to have a clear increasing trend.  It may be useful to FILTER *orders_grouped* to see which Month_Number had the LEAST OR the GREATEST AVERAGE Total_Price.\n",
    "<br><br>\n",
    "**Hint:** Recall that the *orders_grouped* is not a DataFrame, it is a Pandas Series.  Therefore, it is filtered like a Numpy array.  To find both the MIN and MAX month numbers, you will need a 2 criteria filter separated by the OR logical operator."
   ]
  },
  {
   "cell_type": "code",
   "execution_count": null,
   "metadata": {
    "collapsed": true
   },
   "outputs": [],
   "source": []
  },
  {
   "cell_type": "markdown",
   "metadata": {},
   "source": [
    "Great job!  You did not uncover a clear increasing trend in the average online food orders per month.  So, you can't say whether FoodHub's average online food orders per month are doing better over time.  But, perhaps more data collection and analysis could uncover a seasonal pattern of higher average total order prices in the winter months and lower average total order prices in the summer months.\n",
    "<br><br>\n",
    "Understanding these types of trends and patterns could give you as a manager insight on issues like how to staff your delivery drivers.  If your average online food orders are higher in the winter months, then you may need to have more drivers on staff during that time.\n",
    "<br><br>\n",
    "You now have a very good foundation in using Python for data science and are ready to end this workshop with a project that demonstrates the use of data science in the real world."
   ]
  }
 ],
 "metadata": {
  "kernelspec": {
   "display_name": "Python 2",
   "language": "python",
   "name": "python2"
  },
  "language_info": {
   "codemirror_mode": {
    "name": "ipython",
    "version": 2
   },
   "file_extension": ".py",
   "mimetype": "text/x-python",
   "name": "python",
   "nbconvert_exporter": "python",
   "pygments_lexer": "ipython2",
   "version": "2.7.13"
  }
 },
 "nbformat": 4,
 "nbformat_minor": 2
}
