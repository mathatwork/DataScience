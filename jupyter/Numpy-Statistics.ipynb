{
 "cells": [
  {
   "cell_type": "markdown",
   "metadata": {},
   "source": [
    "# Numpy Statistical Properties Exploration: Climate Change"
   ]
  },
  {
   "cell_type": "markdown",
   "metadata": {},
   "source": [
    "You are a data scientist interested in climate change in your area.  Every month for an entire year you obtain the average land temperature of your city measured in degrees Celsius.  You record this information in a notebook. \n",
    "<br><br>\n",
    "Here is your data:\n",
    "![title](img/temps.png)\n",
    "<br>\n",
    "Let's look at how you can use Numpy statistical functions to analyze your dataset."
   ]
  },
  {
   "cell_type": "markdown",
   "metadata": {},
   "source": [
    "**Question 1)** In the next cell, import the Numpy package. Then create a 1-Dimensional Numpy array of your recorded temperatures."
   ]
  },
  {
   "cell_type": "code",
   "execution_count": null,
   "metadata": {
    "collapsed": true
   },
   "outputs": [],
   "source": []
  },
  {
   "cell_type": "markdown",
   "metadata": {},
   "source": [
    "**Question 2)** Find the AVERAGE temperature."
   ]
  },
  {
   "cell_type": "code",
   "execution_count": null,
   "metadata": {
    "collapsed": true
   },
   "outputs": [],
   "source": []
  },
  {
   "cell_type": "markdown",
   "metadata": {},
   "source": [
    "**Question 3)** SORT your data to see if there are any extreme temperatures that could throw off your analysis.  Extreme temperatures would be those data values that are much higher or much lower than all other data values."
   ]
  },
  {
   "cell_type": "code",
   "execution_count": null,
   "metadata": {
    "collapsed": true
   },
   "outputs": [],
   "source": []
  },
  {
   "cell_type": "markdown",
   "metadata": {},
   "source": [
    "**Question 4)** Do you think that there were any temperatures that could have impacted your average temperature calculation above?  If so, the MEDIAN might be a better representation of your dataset.  In the next cell, calculate the MEDIAN temperature."
   ]
  },
  {
   "cell_type": "code",
   "execution_count": null,
   "metadata": {
    "collapsed": true
   },
   "outputs": [],
   "source": []
  },
  {
   "cell_type": "markdown",
   "metadata": {},
   "source": [
    "**Question 5)** While the median tells you where 50% of your temperature data fall below.  Where does 75% of your temperature data fall below?  Calculate the 75th PERCENTILE."
   ]
  },
  {
   "cell_type": "code",
   "execution_count": null,
   "metadata": {
    "collapsed": true
   },
   "outputs": [],
   "source": []
  },
  {
   "cell_type": "markdown",
   "metadata": {},
   "source": [
    "**Question 6)** Now that you have a good idea about specific temperature values, let's look at the spread of your data.  Calculate the STANDARD DEVIATION to see how close or far away your data is from the mean.  Describe in the cell below your calculation what the STANDARD DEVIATION says about your temperature data."
   ]
  },
  {
   "cell_type": "code",
   "execution_count": null,
   "metadata": {
    "collapsed": true
   },
   "outputs": [],
   "source": []
  },
  {
   "cell_type": "markdown",
   "metadata": {},
   "source": [
    "Great work!  Numpy made it super easy to calculate several important statistical properties of your dataset.  When extreme values exist in the data, they impact the MEAN calculation.  In this case, the MEDIAN temperature may be more useful than the MEAN temperature because it is not affected by these extreme values.  \n",
    "<br><br>\n",
    "The STANDARD DEVIATION is very useful for understanding the spread of your data.  A large STANDARD DEVIATION indicates that most temperature values are spread far away from the average and are therefore, a lot higher/lower than the average temperature.  While a small STANDARD DEVIATION indicates most temperature values are close to (or not that different from) the average temperature.  "
   ]
  }
 ],
 "metadata": {
  "kernelspec": {
   "display_name": "Python 2",
   "language": "python",
   "name": "python2"
  },
  "language_info": {
   "codemirror_mode": {
    "name": "ipython",
    "version": 2
   },
   "file_extension": ".py",
   "mimetype": "text/x-python",
   "name": "python",
   "nbconvert_exporter": "python",
   "pygments_lexer": "ipython2",
   "version": "2.7.13"
  }
 },
 "nbformat": 4,
 "nbformat_minor": 2
}
