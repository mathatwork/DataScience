{
 "cells": [
  {
   "cell_type": "markdown",
   "metadata": {},
   "source": [
    "# Data Science in the Real World: HotelMart Hotel Supplies"
   ]
  },
  {
   "cell_type": "markdown",
   "metadata": {},
   "source": [
    "You are a business intelligence analyst for HotelMart, a company that sells hotel supplies.  You are interested in getting a better understanding of your company's sales.  You have datasets in 3 different CSV files located in the DATA directory: products-hotel.csv, orders-hotel.csv, and sales-hotel.csv.  You need to produce a set of reports to present to your boss."
   ]
  },
  {
   "cell_type": "markdown",
   "metadata": {},
   "source": [
    "**1]** Import each dataset into its own Pandas DataFrame named products, orders and sales.  Print the first 5 rows of each of your DataFrames to see what your data looks like."
   ]
  },
  {
   "cell_type": "code",
   "execution_count": 2,
   "metadata": {
    "collapsed": true
   },
   "outputs": [],
   "source": []
  },
  {
   "cell_type": "code",
   "execution_count": null,
   "metadata": {
    "collapsed": true
   },
   "outputs": [],
   "source": []
  },
  {
   "cell_type": "markdown",
   "metadata": {},
   "source": [
    "Notice our CSV file already contained column labels.  Therefore, we do not need to create them for our DataFrames."
   ]
  },
  {
   "cell_type": "markdown",
   "metadata": {},
   "source": [
    "**2]** Use the appropriate DataFrame to calculate the AVERAGE, STANDARD DEVIATION, MAX and MIN Price by CategoryID.  **Do 1 calculation per cell below.**"
   ]
  },
  {
   "cell_type": "code",
   "execution_count": null,
   "metadata": {
    "collapsed": true
   },
   "outputs": [],
   "source": []
  },
  {
   "cell_type": "code",
   "execution_count": null,
   "metadata": {
    "collapsed": true
   },
   "outputs": [],
   "source": []
  },
  {
   "cell_type": "code",
   "execution_count": null,
   "metadata": {
    "collapsed": true
   },
   "outputs": [],
   "source": []
  },
  {
   "cell_type": "code",
   "execution_count": null,
   "metadata": {
    "collapsed": true
   },
   "outputs": [],
   "source": []
  },
  {
   "cell_type": "markdown",
   "metadata": {},
   "source": [
    "From the above calculations, we obtain very important statistical properties of our data.  We can see where 50% of our Price data falls for each category.  We can see how close our Price data is from the mean for each category.  Lastly, we can see the range of Price data values for each category which can give us insight on the existence of extreme values that may have impacted our average Price."
   ]
  },
  {
   "cell_type": "markdown",
   "metadata": {},
   "source": [
    "**3]** Use the appropriate DataFrame to:\n",
    "- GROUP by ProductID and then aggregate the total Quantity of each ProductID sold.  \n",
    "- Then SORT this grouping using the Pandas Series sort function, **sort_values( )**.  \n",
    "- Lastly, FILTER out the top 5 largest Quantity values for this grouping."
   ]
  },
  {
   "cell_type": "code",
   "execution_count": null,
   "metadata": {
    "collapsed": true
   },
   "outputs": [],
   "source": []
  },
  {
   "cell_type": "markdown",
   "metadata": {},
   "source": [
    "**4]** Filter on the ProductName in the *products* DataFrame for each ProductID of the top 5 largest Quantity values above.  What are the top 5 best-selling products of all time?"
   ]
  },
  {
   "cell_type": "code",
   "execution_count": null,
   "metadata": {
    "collapsed": true
   },
   "outputs": [],
   "source": []
  },
  {
   "cell_type": "markdown",
   "metadata": {},
   "source": [
    "**5]** How do the AVERAGE Weekly_Sales on a holiday compare to those on a non-holiday? Use the 1st cell below to code your calculation and the 2nd cell to explain your results.  In general, is this what you would expect?"
   ]
  },
  {
   "cell_type": "code",
   "execution_count": null,
   "metadata": {
    "collapsed": true
   },
   "outputs": [],
   "source": []
  },
  {
   "cell_type": "markdown",
   "metadata": {},
   "source": []
  }
 ],
 "metadata": {
  "kernelspec": {
   "display_name": "Python 2",
   "language": "python",
   "name": "python2"
  },
  "language_info": {
   "codemirror_mode": {
    "name": "ipython",
    "version": 2
   },
   "file_extension": ".py",
   "mimetype": "text/x-python",
   "name": "python",
   "nbconvert_exporter": "python",
   "pygments_lexer": "ipython2",
   "version": "2.7.13"
  }
 },
 "nbformat": 4,
 "nbformat_minor": 2
}
