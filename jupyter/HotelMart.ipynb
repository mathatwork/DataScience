{
 "cells": [
  {
   "cell_type": "markdown",
   "metadata": {},
   "source": [
    "# Data Science in the Real World: HotelMart Hotel Supplies"
   ]
  },
  {
   "cell_type": "markdown",
   "metadata": {},
   "source": [
    "You are a business intelligence analyst for HotelMart, a company that sells hotel supplies.  You are interested in getting a better understanding of your company's inventory and sales.  You have datasets in 3 different CSV files located in the data directory: *products-hotel.csv*, *orders-hotel.csv*, and *sales-hotel.csv*.  You need to produce a set of reports to present to your boss."
   ]
  },
  {
   "cell_type": "markdown",
   "metadata": {},
   "source": [
    "**1]** Import each dataset into its own Pandas DataFrame named products, orders and sales.  Print the first 5 rows of each of your DataFrames to see what your data looks like."
   ]
  },
  {
   "cell_type": "code",
   "execution_count": 2,
   "metadata": {
    "collapsed": true
   },
   "outputs": [],
   "source": []
  },
  {
   "cell_type": "code",
   "execution_count": null,
   "metadata": {
    "collapsed": true
   },
   "outputs": [],
   "source": []
  },
  {
   "cell_type": "markdown",
   "metadata": {},
   "source": [
    "Notice our CSV file already contained column labels.  Therefore, we do not need to create them for our DataFrames."
   ]
  },
  {
   "cell_type": "markdown",
   "metadata": {},
   "source": [
    "**2]** Use the appropriate DataFrame to calculate the AVERAGE, STANDARD DEVIATION, MAX and MIN Price by CategoryID.  **Do 1 calculation per cell below.**"
   ]
  },
  {
   "cell_type": "code",
   "execution_count": null,
   "metadata": {
    "collapsed": true
   },
   "outputs": [],
   "source": []
  },
  {
   "cell_type": "code",
   "execution_count": null,
   "metadata": {
    "collapsed": true
   },
   "outputs": [],
   "source": []
  },
  {
   "cell_type": "code",
   "execution_count": null,
   "metadata": {
    "collapsed": true
   },
   "outputs": [],
   "source": []
  },
  {
   "cell_type": "code",
   "execution_count": null,
   "metadata": {
    "collapsed": true
   },
   "outputs": [],
   "source": []
  },
  {
   "cell_type": "markdown",
   "metadata": {},
   "source": [
    "From the above calculations, you obtain very important statistical properties of your product data.  You can see where 50% of your product prices fall below for each category.  You can see how spread out your product prices are from the mean for each category.  Lastly, you can see the range of product prices for each category which can give insight on the existence of extreme values that may have impacted your average product price for each category."
   ]
  },
  {
   "cell_type": "markdown",
   "metadata": {},
   "source": [
    "**3]** Use the appropriate DataFrame to:\n",
    "- GROUP by ProductID and then aggregate the total Quantity of each ProductID sold.  \n",
    "- Then SORT this grouping using the Pandas Series sort function, **sort_values( )**.  \n",
    "- Lastly, FILTER out the top 5 largest Quantity values for this grouping."
   ]
  },
  {
   "cell_type": "code",
   "execution_count": null,
   "metadata": {
    "collapsed": true
   },
   "outputs": [],
   "source": []
  },
  {
   "cell_type": "markdown",
   "metadata": {},
   "source": [
    "**4]** Filter on the ProductName in the products DataFrame for each ProductID in the top 5 largest Quantity totals found above.  What are the top 5 best-selling products of all time for HotelMart?"
   ]
  },
  {
   "cell_type": "code",
   "execution_count": null,
   "metadata": {
    "collapsed": true
   },
   "outputs": [],
   "source": []
  },
  {
   "cell_type": "markdown",
   "metadata": {},
   "source": [
    "**5]** How do the AVERAGE Weekly_Sales on a holiday compare to those on a non-holiday?  Use the 1st cell below to code your calculation and the 2nd cell to explain your results.  In general, is this what you would expect?  Explain."
   ]
  },
  {
   "cell_type": "code",
   "execution_count": null,
   "metadata": {
    "collapsed": true
   },
   "outputs": [],
   "source": []
  },
  {
   "cell_type": "code",
   "execution_count": null,
   "metadata": {
    "collapsed": true
   },
   "outputs": [],
   "source": []
  },
  {
   "cell_type": "markdown",
   "metadata": {},
   "source": [
    "Great job with completing this workshop.  You were able to uncover some interesting details about your company’s price data:  where 50% of its product prices fall below and how spread out the price data is for each category.  Comparing this information to other companies selling similar products might give insight on how well HotelMart’s items are priced.  Are competitors’ products on average priced higher/lower for similar categories?  \n",
    "<br><br>\n",
    "You were also able to see which products were HotelMart’s top 5 best-selling.  These products should continue to be sold by the company.  Less selling products should be removed from inventory and no longer sold.  Understanding holiday sales could give insight on whether brick and mortar stores should remain open on holidays.  Significantly increased sales on holidays could indicate that continuing to open stores on these days is a good business decision.\n",
    "<br><br>\n",
    "You are now ready to move on to Workshop 2, Python for Data Visualizations."
   ]
  }
 ],
 "metadata": {
  "kernelspec": {
   "display_name": "Python 2",
   "language": "python",
   "name": "python2"
  },
  "language_info": {
   "codemirror_mode": {
    "name": "ipython",
    "version": 2
   },
   "file_extension": ".py",
   "mimetype": "text/x-python",
   "name": "python",
   "nbconvert_exporter": "python",
   "pygments_lexer": "ipython2",
   "version": "2.7.13"
  }
 },
 "nbformat": 4,
 "nbformat_minor": 2
}
