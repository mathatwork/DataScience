{
 "cells": [
  {
   "cell_type": "markdown",
   "metadata": {},
   "source": [
    "# Jupyter Notebook Header (Title, Menubar and Toolbar)"
   ]
  },
  {
   "cell_type": "markdown",
   "metadata": {},
   "source": [
    "At the top of the notebook document is a header which contains the notebook title, a menubar, and toolbar. \n",
    "\n",
    "![title](img/header1.png)"
   ]
  },
  {
   "cell_type": "markdown",
   "metadata": {},
   "source": [
    "Click on the notebook title (here, the title is Jupyter Notebook Basics) to rename your notebook in place.\n",
    "Select from the dropdown menu on the toolbar (Code is selected by default), to toggle between Code and Markdown.  Markdown is when you just want to add text to document your Python code, just like what I am doing here.  \n",
    "\n",
    "![title](img/header2.png)"
   ]
  },
  {
   "cell_type": "markdown",
   "metadata": {},
   "source": [
    "Code is when you want to execute some Python script.  To execute either Markdown or Code, use the Run button ![title](img/play.png) on the toolbar."
   ]
  },
  {
   "cell_type": "markdown",
   "metadata": {},
   "source": [
    "### Exercise:"
   ]
  },
  {
   "cell_type": "markdown",
   "metadata": {},
   "source": [
    "Double click on each of the following 2 cells and then click the Run button on the toolbar to execute the Code or Markdown within each cell."
   ]
  },
  {
   "cell_type": "markdown",
   "metadata": {},
   "source": [
    "**You did it!**\n",
    "![title](img/hooray.png)"
   ]
  },
  {
   "cell_type": "code",
   "execution_count": null,
   "metadata": {},
   "outputs": [],
   "source": [
    "import numpy as np\n",
    "np.array([1,2,3])"
   ]
  },
  {
   "cell_type": "markdown",
   "metadata": {},
   "source": [
    "# Jupyter Notebook Body"
   ]
  },
  {
   "cell_type": "markdown",
   "metadata": {},
   "source": [
    "Each cell of a Jupyter notebook body contains either markdown, code input or code output.  In the previous exercise, the first cell contained markdown.  When executed you should have gotten a nice message and graphic.  The second cell contained input code.  Upon execution you got output code. \n",
    "<br><br>\n",
    "Input code in Jupyter notebooks will be indicated with BLUE text and output code will be indicated with RED text."
   ]
  },
  {
   "cell_type": "markdown",
   "metadata": {},
   "source": [
    "### Exercise: "
   ]
  },
  {
   "cell_type": "markdown",
   "metadata": {},
   "source": [
    "Execute the following code input to see its code output by double clicking in the cell and then clicking the Run button on the toolbar."
   ]
  },
  {
   "cell_type": "code",
   "execution_count": null,
   "metadata": {},
   "outputs": [],
   "source": [
    "a=5\n",
    "print(a)"
   ]
  },
  {
   "cell_type": "markdown",
   "metadata": {},
   "source": [
    "The above input code sets a variable *'a'* to the value of 5 and then prints it to the notebook's code output."
   ]
  }
 ],
 "metadata": {
  "kernelspec": {
   "display_name": "Python 3",
   "language": "python",
   "name": "python3"
  },
  "language_info": {
   "codemirror_mode": {
    "name": "ipython",
    "version": 3
   },
   "file_extension": ".py",
   "mimetype": "text/x-python",
   "name": "python",
   "nbconvert_exporter": "python",
   "pygments_lexer": "ipython3",
   "version": "3.6.1"
  }
 },
 "nbformat": 4,
 "nbformat_minor": 2
}
